{
  "nbformat": 4,
  "nbformat_minor": 0,
  "metadata": {
    "colab": {
      "name": "e18cse071hpclab5.ipynb",
      "provenance": []
    },
    "kernelspec": {
      "name": "python3",
      "display_name": "Python 3"
    }
  },
  "cells": [
    {
      "cell_type": "code",
      "metadata": {
        "id": "uWbrr2ERvmhg"
      },
      "source": [
        "\r\n",
        "import numpy as np\r\n",
        "import os\r\n",
        "import time"
      ],
      "execution_count": 12,
      "outputs": []
    },
    {
      "cell_type": "code",
      "metadata": {
        "colab": {
          "base_uri": "https://localhost:8080/"
        },
        "id": "5sN8MPCcvnu6",
        "outputId": "5a745185-b6f3-441f-9b3e-e0f271cd5c99"
      },
      "source": [
        "n = 5\r\n",
        "pehlavariable = np.random.randint(tsabsekam,tsabsezyada,(n,n))\r\n",
        "doosravariable = np.random.randint(tsabsekam,tsabsezyada,(n,n))\r\n",
        "\r\n",
        "teesravariable = [[0 for i in range(n)] for i in range(n)]\r\n",
        "\r\n",
        "def task(n, pehlavariable, doosravariable, teesravariable):\r\n",
        "    for i in range(n):  \r\n",
        "        for j in range(n):\r\n",
        "            for k in range(n):\r\n",
        "                teesravariable[i][j] += pehlavariable[i][k] * doosravariable[k][j]\r\n",
        "    return teesravariable\r\n",
        "\r\n",
        "start1 = time.time()\r\n",
        "teesravariable = task(n, pehlavariable, doosravariable, teesravariable)\r\n",
        "khatam1 = time.time()\r\n",
        "print('time', khatam1 - start1)\r\n",
        "teesravariable"
      ],
      "execution_count": 13,
      "outputs": [
        {
          "output_type": "stream",
          "text": [
            "time 0.00017905235290527344\n"
          ],
          "name": "stdout"
        },
        {
          "output_type": "execute_result",
          "data": {
            "text/plain": [
              "[[3101, 4688, 4617, 3931, 3420],\n",
              " [3597, 4709, 4515, 4267, 3808],\n",
              " [3422, 3599, 4056, 2852, 2444],\n",
              " [2078, 1651, 1844, 1591, 1732],\n",
              " [3340, 4211, 4334, 3535, 2620]]"
            ]
          },
          "metadata": {
            "tags": []
          },
          "execution_count": 13
        }
      ]
    },
    {
      "cell_type": "code",
      "metadata": {
        "colab": {
          "base_uri": "https://localhost:8080/"
        },
        "id": "h9F0hwpCvz12",
        "outputId": "d3298efd-17c5-4697-e6cc-dac62d07b26f"
      },
      "source": [
        "n = 100\r\n",
        "tsabsekam = 0\r\n",
        "tsabsezyada = 50\r\n",
        "array = np.random.randint(tsabsekam, tsabsezyada, (n))\r\n",
        "array\r\n",
        "\r\n",
        "kuchbhi_bakwas = np.random.randint(tsabsekam, tsabsezyada)\r\n",
        "kuchbhi_bakwas\r\n",
        "\r\n",
        "start = time.time()\r\n",
        "for i in range(n):\r\n",
        "  if(array[i] == kuchbhi_bakwas):\r\n",
        "    print(\"Search: {}\\nIndex: {}\".format(kuchbhi_bakwas, i))\r\n",
        "    break\r\n",
        "khatam = time.time()\r\n",
        "print(\"time \", khatam - start)"
      ],
      "execution_count": 14,
      "outputs": [
        {
          "output_type": "stream",
          "text": [
            "Search: 41\n",
            "Index: 2\n",
            "time  0.0003325939178466797\n"
          ],
          "name": "stdout"
        }
      ]
    },
    {
      "cell_type": "code",
      "metadata": {
        "colab": {
          "base_uri": "https://localhost:8080/"
        },
        "id": "E5_xi9t6v9yE",
        "outputId": "aacd59ca-50bc-464b-ae38-2a1faa4afefa"
      },
      "source": [
        "\r\n",
        "n = 100\r\n",
        "sabsekam = 0\r\n",
        "sabsezyada = 50\r\n",
        "array = np.random.randint(sabsekam, sabsezyada, (n))\r\n",
        "array\r\n",
        "eksaathkitna = 0\r\n",
        "start = time.time()\r\n",
        "for i in range(n):\r\n",
        "  eksaathkitna += array[i]\r\n",
        "\r\n",
        "khatam = time.time()\r\n",
        "print(eksaathkitna)\r\n",
        "print('time', khatam - start)"
      ],
      "execution_count": 15,
      "outputs": [
        {
          "output_type": "stream",
          "text": [
            "2434\n",
            "time 0.00013113021850585938\n"
          ],
          "name": "stdout"
        }
      ]
    },
    {
      "cell_type": "code",
      "metadata": {
        "colab": {
          "base_uri": "https://localhost:8080/"
        },
        "id": "i802i8Myxjj0",
        "outputId": "f41bf6d8-16d0-4ef1-d21b-ed696e717254"
      },
      "source": [
        "def prino(n):\r\n",
        "    flag = True\r\n",
        "    for i in range(2,n//2):\r\n",
        "        if(n%i==0):\r\n",
        "            flag = False\r\n",
        "            break\r\n",
        "    \r\n",
        "    if(flag):\r\n",
        "        return n\r\n",
        "    \r\n",
        "    else:\r\n",
        "        return 0\r\n",
        "\r\n",
        "numbers = []\r\n",
        "sabsekam = 2\r\n",
        "sabsezyada = 1000\r\n",
        "start = time.time()\r\n",
        "for i in range(sabsekam, sabsezyada + 1):\r\n",
        "  if(prino(i) == 0): \r\n",
        "    continue\r\n",
        "  else:\r\n",
        "    numbers.append(i)\r\n",
        "end = time.time()\r\n",
        "time = end - start\r\n",
        "print(\"time :\", time)\r\n",
        "numbers"
      ],
      "execution_count": 16,
      "outputs": [
        {
          "output_type": "stream",
          "text": [
            "time : 0.00400853157043457\n"
          ],
          "name": "stdout"
        },
        {
          "output_type": "execute_result",
          "data": {
            "text/plain": [
              "[2,\n",
              " 3,\n",
              " 4,\n",
              " 5,\n",
              " 7,\n",
              " 11,\n",
              " 13,\n",
              " 17,\n",
              " 19,\n",
              " 23,\n",
              " 29,\n",
              " 31,\n",
              " 37,\n",
              " 41,\n",
              " 43,\n",
              " 47,\n",
              " 53,\n",
              " 59,\n",
              " 61,\n",
              " 67,\n",
              " 71,\n",
              " 73,\n",
              " 79,\n",
              " 83,\n",
              " 89,\n",
              " 97,\n",
              " 101,\n",
              " 103,\n",
              " 107,\n",
              " 109,\n",
              " 113,\n",
              " 127,\n",
              " 131,\n",
              " 137,\n",
              " 139,\n",
              " 149,\n",
              " 151,\n",
              " 157,\n",
              " 163,\n",
              " 167,\n",
              " 173,\n",
              " 179,\n",
              " 181,\n",
              " 191,\n",
              " 193,\n",
              " 197,\n",
              " 199,\n",
              " 211,\n",
              " 223,\n",
              " 227,\n",
              " 229,\n",
              " 233,\n",
              " 239,\n",
              " 241,\n",
              " 251,\n",
              " 257,\n",
              " 263,\n",
              " 269,\n",
              " 271,\n",
              " 277,\n",
              " 281,\n",
              " 283,\n",
              " 293,\n",
              " 307,\n",
              " 311,\n",
              " 313,\n",
              " 317,\n",
              " 331,\n",
              " 337,\n",
              " 347,\n",
              " 349,\n",
              " 353,\n",
              " 359,\n",
              " 367,\n",
              " 373,\n",
              " 379,\n",
              " 383,\n",
              " 389,\n",
              " 397,\n",
              " 401,\n",
              " 409,\n",
              " 419,\n",
              " 421,\n",
              " 431,\n",
              " 433,\n",
              " 439,\n",
              " 443,\n",
              " 449,\n",
              " 457,\n",
              " 461,\n",
              " 463,\n",
              " 467,\n",
              " 479,\n",
              " 487,\n",
              " 491,\n",
              " 499,\n",
              " 503,\n",
              " 509,\n",
              " 521,\n",
              " 523,\n",
              " 541,\n",
              " 547,\n",
              " 557,\n",
              " 563,\n",
              " 569,\n",
              " 571,\n",
              " 577,\n",
              " 587,\n",
              " 593,\n",
              " 599,\n",
              " 601,\n",
              " 607,\n",
              " 613,\n",
              " 617,\n",
              " 619,\n",
              " 631,\n",
              " 641,\n",
              " 643,\n",
              " 647,\n",
              " 653,\n",
              " 659,\n",
              " 661,\n",
              " 673,\n",
              " 677,\n",
              " 683,\n",
              " 691,\n",
              " 701,\n",
              " 709,\n",
              " 719,\n",
              " 727,\n",
              " 733,\n",
              " 739,\n",
              " 743,\n",
              " 751,\n",
              " 757,\n",
              " 761,\n",
              " 769,\n",
              " 773,\n",
              " 787,\n",
              " 797,\n",
              " 809,\n",
              " 811,\n",
              " 821,\n",
              " 823,\n",
              " 827,\n",
              " 829,\n",
              " 839,\n",
              " 853,\n",
              " 857,\n",
              " 859,\n",
              " 863,\n",
              " 877,\n",
              " 881,\n",
              " 883,\n",
              " 887,\n",
              " 907,\n",
              " 911,\n",
              " 919,\n",
              " 929,\n",
              " 937,\n",
              " 941,\n",
              " 947,\n",
              " 953,\n",
              " 967,\n",
              " 971,\n",
              " 977,\n",
              " 983,\n",
              " 991,\n",
              " 997]"
            ]
          },
          "metadata": {
            "tags": []
          },
          "execution_count": 16
        }
      ]
    },
    {
      "cell_type": "code",
      "metadata": {
        "colab": {
          "base_uri": "https://localhost:8080/"
        },
        "id": "-uJO_LtlyNat",
        "outputId": "59d342f2-8d20-45d8-b98e-60980dd12b08"
      },
      "source": [
        "import numpy as np\r\n",
        "import threading\r\n",
        "import os\r\n",
        "import time\r\n",
        "import multiprocessing\r\n",
        "import cv2\r\n",
        "import matplotlib.pyplot as plt\r\n",
        "\r\n",
        "n = 6\r\n",
        "sabsekam = 0\r\n",
        "sabsezyada = 1000\r\n",
        "\r\n",
        "arrayekaur = np.random.randint(sabsekam, sabsezyada, (n))\r\n",
        "\r\n",
        "opset = []\r\n",
        "start = time.time()\r\n",
        "\r\n",
        "def prime(n):\r\n",
        "    flag = True\r\n",
        "    for i in range(2,n//2):\r\n",
        "        if(n%i==0):\r\n",
        "            flag = False\r\n",
        "            break\r\n",
        "    \r\n",
        "    if(flag):\r\n",
        "        return n\r\n",
        "    \r\n",
        "    else:\r\n",
        "        return 0\r\n",
        "        \r\n",
        "x = len(arrayekaur)\r\n",
        "for i in range(1 << x):\r\n",
        "    opset.append([arrayekaur[j] for j in range(x) if (i & (1 << j))])\r\n",
        "\r\n",
        "def primePowerSet(opset):\r\n",
        "    primeset = []\r\n",
        "\r\n",
        "    for i in range(len(opset)):\r\n",
        "        if(prime(sum(opset[i])) == 0):\r\n",
        "            continue\r\n",
        "\r\n",
        "        else:\r\n",
        "            primeset.append(opset[i])\r\n",
        "    \r\n",
        "    return primeset\r\n",
        "primeset = primePowerSet(opset)\r\n",
        "end = time.time()\r\n",
        "\r\n",
        "time_serial = end-start\r\n",
        "print(\"Time \", time_serial)\r\n",
        "\r\n",
        "primeset"
      ],
      "execution_count": 19,
      "outputs": [
        {
          "output_type": "stream",
          "text": [
            "Time  0.0041577816009521484\n"
          ],
          "name": "stdout"
        },
        {
          "output_type": "execute_result",
          "data": {
            "text/plain": [
              "[[117, 820],\n",
              " [977],\n",
              " [632, 977],\n",
              " [820, 213],\n",
              " [117, 977, 213],\n",
              " [599],\n",
              " [632, 599],\n",
              " [117, 977, 599],\n",
              " [117, 213, 599],\n",
              " [632, 117, 820, 213, 599],\n",
              " [977, 213, 599],\n",
              " [820, 977, 213, 599]]"
            ]
          },
          "metadata": {
            "tags": []
          },
          "execution_count": 19
        }
      ]
    },
    {
      "cell_type": "code",
      "metadata": {
        "colab": {
          "base_uri": "https://localhost:8080/"
        },
        "id": "vfv9V_V4zHCt",
        "outputId": "4da0e57a-777a-4633-baa3-3e521edd65db"
      },
      "source": [
        "\r\n",
        "def ultaseedha(word):\r\n",
        "  flag = 0\r\n",
        "  if(word == word[::-1]):\r\n",
        "    flag = 1\r\n",
        "  else:\r\n",
        "    flag = 0\r\n",
        "\r\n",
        "  return flag\r\n",
        "\r\n",
        "!wget --no-check-certificate \"https://raw.githubusercontent.com/dwyl/english-words/master/words.txt\"\r\n",
        "data = open(\"/content/words.txt\", 'r')\r\n",
        "arrayekaur = []\r\n",
        "for i in data:\r\n",
        "  arrayekaur.append(i.strip('\\n'))\r\n",
        "\r\n",
        "yolo = []\r\n",
        "\r\n",
        "start = time.time()\r\n",
        "for i in arrayekaur:\r\n",
        "  if(ultaseedha(i) == 1):\r\n",
        "    yolo.append(i)\r\n",
        "  else:\r\n",
        "    continue\r\n",
        "end = time.time()\r\n",
        "\r\n",
        "yolo\r\n",
        "print('time = ', end - start)"
      ],
      "execution_count": 20,
      "outputs": [
        {
          "output_type": "stream",
          "text": [
            "--2021-02-21 18:16:20--  https://raw.githubusercontent.com/dwyl/english-words/master/words.txt\n",
            "Resolving raw.githubusercontent.com (raw.githubusercontent.com)... 185.199.108.133, 185.199.111.133, 185.199.110.133, ...\n",
            "Connecting to raw.githubusercontent.com (raw.githubusercontent.com)|185.199.108.133|:443... connected.\n",
            "HTTP request sent, awaiting response... 200 OK\n",
            "Length: 4862992 (4.6M) [text/plain]\n",
            "Saving to: ‘words.txt’\n",
            "\n",
            "words.txt           100%[===================>]   4.64M  23.8MB/s    in 0.2s    \n",
            "\n",
            "2021-02-21 18:16:22 (23.8 MB/s) - ‘words.txt’ saved [4862992/4862992]\n",
            "\n",
            "time =  0.1187736988067627\n"
          ],
          "name": "stdout"
        }
      ]
    },
    {
      "cell_type": "code",
      "metadata": {
        "colab": {
          "base_uri": "https://localhost:8080/",
          "height": 285
        },
        "id": "IprcQA6yzmei",
        "outputId": "b8da8d93-021c-447c-d2e0-1e30ac9e5a02"
      },
      "source": [
        "\r\n",
        "import numpy as np\r\n",
        "import threading\r\n",
        "import os\r\n",
        "import time\r\n",
        "import multiprocessing\r\n",
        "import cv2\r\n",
        "import matplotlib.pyplot as plt\r\n",
        "img = cv2.imread('back.png')\r\n",
        "img = cv2.resize(img, (512, 512))\r\n",
        "\r\n",
        "data = (np.random.randint(-1, 1, (3,3,3)))\r\n",
        "\r\n",
        "def convolvee(image):\r\n",
        "    (iH, iW) = image.shape[:2]\r\n",
        "    (kH, kW) = data.shape[:2]\r\n",
        "\r\n",
        "    kinare = 0\r\n",
        "    image = cv2.copyMakeBorder(image, kinare, kinare, kinare, kinare,\r\n",
        "        cv2.BORDER_REPLICATE)\r\n",
        "    output = np.zeros((iH, iW), dtype=\"float32\")\r\n",
        "    for y in np.arange(kinare, iH + kinare):\r\n",
        "        for x in np.arange(kinare, iW + kinare):\r\n",
        "\r\n",
        "            roi = image[y - kinare:y + kinare + 1, x - kinare:x + kinare + 1]\r\n",
        "\r\n",
        "            k = (roi * data).sum()\r\n",
        "\r\n",
        "            output[y - kinare, x - kinare] = k\r\n",
        "\r\n",
        "\r\n",
        "    output = (output * 255).astype(\"uint8\")\r\n",
        "    return output\r\n",
        "plt.imshow(img, cmap='gray')\r\n"
      ],
      "execution_count": 26,
      "outputs": [
        {
          "output_type": "execute_result",
          "data": {
            "text/plain": [
              "<matplotlib.image.AxesImage at 0x7fb7a146eda0>"
            ]
          },
          "metadata": {
            "tags": []
          },
          "execution_count": 26
        },
        {
          "output_type": "display_data",
          "data": {
            "image/png": "[encoded data removed]",
            "text/plain": [
              "<Figure size 432x288 with 1 Axes>"
            ]
          },
          "metadata": {
            "tags": [],
            "needs_background": "light"
          }
        }
      ]
    },
    {
      "cell_type": "code",
      "metadata": {
        "id": "sv9dwAo50J_G"
      },
      "source": [
        ""
      ],
      "execution_count": null,
      "outputs": []
    }
  ]
}